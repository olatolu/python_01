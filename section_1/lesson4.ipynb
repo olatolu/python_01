{
 "cells": [
  {
   "cell_type": "code",
   "execution_count": 7,
   "metadata": {},
   "outputs": [
    {
     "name": "stdout",
     "output_type": "stream",
     "text": [
      "1\n",
      "4\n",
      "7\n",
      "10\n",
      "13\n",
      "16\n",
      "19\n"
     ]
    }
   ],
   "source": [
    "for i in range(1, 20, 3):\n",
    "    print(i)"
   ]
  },
  {
   "cell_type": "code",
   "execution_count": 15,
   "metadata": {},
   "outputs": [
    {
     "name": "stdout",
     "output_type": "stream",
     "text": [
      "tiger\n",
      "luion\n",
      "leopard\n"
     ]
    }
   ],
   "source": [
    "cats = ('tiger', 'luion', 'leopard')\n",
    "\n",
    "for cat in cats:\n",
    "    print(cat)"
   ]
  },
  {
   "cell_type": "code",
   "execution_count": 13,
   "metadata": {},
   "outputs": [
    {
     "name": "stdout",
     "output_type": "stream",
     "text": [
      "3 x 1 = 3\n",
      "3 x 2 = 6\n",
      "3 x 3 = 9\n",
      "3 x 4 = 12\n",
      "3 x 5 = 15\n",
      "3 x 6 = 18\n",
      "3 x 7 = 21\n",
      "3 x 8 = 24\n",
      "3 x 9 = 27\n",
      "3 x 10 = 30\n",
      "3 x 11 = 33\n",
      "3 x 12 = 36\n"
     ]
    }
   ],
   "source": [
    "a = 3\n",
    "for num in range(1, 13):\n",
    "    print(a, \"x\", num, \"=\", a*num)"
   ]
  },
  {
   "cell_type": "code",
   "execution_count": 16,
   "metadata": {},
   "outputs": [
    {
     "name": "stdout",
     "output_type": "stream",
     "text": [
      "[20, 30, 40]\n",
      "[2, 3, 4]\n",
      "['sword', 'hammer', 'shield']\n"
     ]
    }
   ],
   "source": [
    "nest1 = [[20, 30, 40], [2, 3, 4], [\"sword\", \"hammer\", 'shield']]\n",
    "\n",
    "for i in range(3):\n",
    "    print(nest1[i])"
   ]
  },
  {
   "cell_type": "code",
   "execution_count": 20,
   "metadata": {},
   "outputs": [
    {
     "name": "stdout",
     "output_type": "stream",
     "text": [
      "Sword: Power Level = 22\n",
      "Hammer: Power Level = 33\n",
      "Shield: Power Level = 44\n"
     ]
    }
   ],
   "source": [
    "for i in range(3):\n",
    "    p = nest1[0][i] + nest1[1][i]\n",
    "    print(nest1[2][i].capitalize()+\": Power Level = \", p)"
   ]
  },
  {
   "cell_type": "code",
   "execution_count": 22,
   "metadata": {},
   "outputs": [
    {
     "data": {
      "text/plain": [
       "['Sword: Power Level = 22',\n",
       " 'Hammer: Power Level = 33',\n",
       " 'Shield: Power Level = 44']"
      ]
     },
     "execution_count": 22,
     "metadata": {},
     "output_type": "execute_result"
    }
   ],
   "source": [
    "power = []\n",
    "\n",
    "for i in range(3):\n",
    "    p = nest1[2][i].capitalize() + \": Power Level = \" + str(nest1[0][i] + nest1[1][i])\n",
    "    power.append(p)\n",
    "\n",
    "power"
   ]
  },
  {
   "cell_type": "code",
   "execution_count": 28,
   "metadata": {},
   "outputs": [
    {
     "name": "stdout",
     "output_type": "stream",
     "text": [
      "1 + 1 = 2\n",
      "2 + 2 = 4\n",
      "3 + 3 = 6\n",
      "4 + 4 = 8\n",
      "5 + 5 = 10\n",
      "6 + 6 = 12\n",
      "7 + 7 = 14\n"
     ]
    }
   ],
   "source": [
    "for i in range(1, 8):\n",
    "    print(\"{} + {} = {}\".format(i, i , (i + i)))"
   ]
  },
  {
   "cell_type": "code",
   "execution_count": 27,
   "metadata": {},
   "outputs": [
    {
     "name": "stdout",
     "output_type": "stream",
     "text": [
      "1 * 1 = 1\n",
      "2 * 2 = 4\n",
      "3 * 3 = 9\n",
      "4 * 4 = 16\n",
      "5 * 5 = 25\n",
      "6 * 6 = 36\n",
      "7 * 7 = 49\n"
     ]
    }
   ],
   "source": [
    "for i in range(1, 8):\n",
    "    print(\"{} * {} = {}\".format(i, i , (i * i)))"
   ]
  },
  {
   "cell_type": "code",
   "execution_count": 33,
   "metadata": {},
   "outputs": [
    {
     "name": "stdout",
     "output_type": "stream",
     "text": [
      "1.00 + 1.00 = 2\n",
      "2.00 + 2.00 = 4\n",
      "3.00 + 3.00 = 6\n",
      "4.00 + 4.00 = 8\n",
      "5.00 + 5.00 = 10\n",
      "6.00 + 6.00 = 12\n",
      "7.00 + 7.00 = 14\n"
     ]
    }
   ],
   "source": [
    "for i in range(1, 8):\n",
    "    print(\"%.2f + %.2f = %d\" % (i, i, (i +i)))"
   ]
  },
  {
   "cell_type": "code",
   "execution_count": 42,
   "metadata": {},
   "outputs": [
    {
     "name": "stdout",
     "output_type": "stream",
     "text": [
      "2 3 4\n",
      "400 600 800\n",
      "cat dog pig\n",
      "2 3 4\n",
      "400 600 800\n",
      "cat dog pig\n"
     ]
    }
   ],
   "source": [
    "tup1 = ((2, 3, 4), (400, 600, 800), (\"cat\", \"dog\", \"pig\"))\n",
    "\n",
    "for i in range(2):\n",
    "    #tupple unoackageing\n",
    "    for x, y, z in tup1:\n",
    "        print(x, y, z)"
   ]
  },
  {
   "cell_type": "code",
   "execution_count": 71,
   "metadata": {},
   "outputs": [
    {
     "name": "stdout",
     "output_type": "stream",
     "text": [
      "k1 : Chocolate\n",
      "k1 : Lemon\n",
      "k1 : Vanila\n",
      "k1 : Carrot\n",
      "k2 : 300\n",
      "k2 : 400\n",
      "k2 : 500\n",
      "k2 : 600\n"
     ]
    }
   ],
   "source": [
    "cakes = ['chocolate', 'lemon', 'vanila', 'carrot']\n",
    "\n",
    "d1 = {\"k1\" : tuple(cakes), \"k2\" : [300, 400, 500, 600]}\n",
    "\n",
    "for i in d1:\n",
    "    for x in range(len(d1[\"k1\"])):\n",
    "        if(isinstance(d1[i][x], str)):\n",
    "            d = d1[i][x].capitalize()\n",
    "        else:\n",
    "            d = d1[i][x]\n",
    "            \n",
    "        print(i, \":\", d)"
   ]
  },
  {
   "cell_type": "code",
   "execution_count": 78,
   "metadata": {},
   "outputs": [
    {
     "name": "stdout",
     "output_type": "stream",
     "text": [
      "Tiger \n",
      " Level: \n",
      " CRITICAL\n",
      "Luion \n",
      " Level: \n",
      " VERY CRITICAL\n",
      "Leopard \n",
      " Level: \n",
      " WORST\n"
     ]
    }
   ],
   "source": [
    "cats\n",
    "endanger = [\"critical\", \"very critical\", \"Worst\"]\n",
    "\n",
    "for c in range(3):\n",
    "    print(cats[c].capitalize(), \"\\n Level: \\n\", endanger[c].upper())"
   ]
  },
  {
   "cell_type": "code",
   "execution_count": 80,
   "metadata": {},
   "outputs": [
    {
     "name": "stdout",
     "output_type": "stream",
     "text": [
      "5 + 12 = 17\n",
      "6 + 13 = 19\n",
      "7 + 14 = 21\n",
      "8 + 15 = 23\n",
      "9 + 16 = 25\n"
     ]
    },
    {
     "ename": "KeyboardInterrupt",
     "evalue": "",
     "output_type": "error",
     "traceback": [
      "\u001b[1;31m---------------------------------------------------------------------------\u001b[0m",
      "\u001b[1;31mKeyboardInterrupt\u001b[0m                         Traceback (most recent call last)",
      "\u001b[1;32m<ipython-input-80-d724a1e6fb66>\u001b[0m in \u001b[0;36m<module>\u001b[1;34m\u001b[0m\n\u001b[0;32m      1\u001b[0m \u001b[0mnum\u001b[0m \u001b[1;33m=\u001b[0m \u001b[1;36m5\u001b[0m \u001b[1;33m;\u001b[0m \u001b[0mcake\u001b[0m \u001b[1;33m=\u001b[0m \u001b[1;36m12\u001b[0m\u001b[1;33m\u001b[0m\u001b[1;33m\u001b[0m\u001b[0m\n\u001b[0;32m      2\u001b[0m \u001b[1;33m\u001b[0m\u001b[0m\n\u001b[1;32m----> 3\u001b[1;33m \u001b[1;32mwhile\u001b[0m \u001b[0mnum\u001b[0m \u001b[1;33m<\u001b[0m \u001b[1;36m20\u001b[0m\u001b[1;33m:\u001b[0m\u001b[1;33m\u001b[0m\u001b[1;33m\u001b[0m\u001b[0m\n\u001b[0m\u001b[0;32m      4\u001b[0m     \u001b[1;32mwhile\u001b[0m \u001b[0mcake\u001b[0m \u001b[1;33m<\u001b[0m \u001b[1;36m17\u001b[0m\u001b[1;33m:\u001b[0m\u001b[1;33m\u001b[0m\u001b[1;33m\u001b[0m\u001b[0m\n\u001b[0;32m      5\u001b[0m         \u001b[0mprint\u001b[0m\u001b[1;33m(\u001b[0m\u001b[1;34m\"{0} + {1} = {2}\"\u001b[0m\u001b[1;33m.\u001b[0m\u001b[0mformat\u001b[0m\u001b[1;33m(\u001b[0m\u001b[0mnum\u001b[0m\u001b[1;33m,\u001b[0m \u001b[0mcake\u001b[0m\u001b[1;33m,\u001b[0m \u001b[1;33m(\u001b[0m\u001b[0mnum\u001b[0m \u001b[1;33m+\u001b[0m \u001b[0mcake\u001b[0m\u001b[1;33m)\u001b[0m\u001b[1;33m)\u001b[0m\u001b[1;33m)\u001b[0m\u001b[1;33m\u001b[0m\u001b[1;33m\u001b[0m\u001b[0m\n",
      "\u001b[1;31mKeyboardInterrupt\u001b[0m: "
     ]
    }
   ],
   "source": [
    "num = 5 ; cake = 12\n",
    "\n",
    "while num < 20:\n",
    "    while cake < 17:\n",
    "        print(\"{0} + {1} = {2}\".format(num, cake, (num + cake)))\n",
    "        \n",
    "        num += 1 ; cake +=1"
   ]
  },
  {
   "cell_type": "code",
   "execution_count": 81,
   "metadata": {},
   "outputs": [
    {
     "name": "stdout",
     "output_type": "stream",
     "text": [
      "C\n",
      "Java\n",
      "JavaScript\n",
      "C#\n",
      "C++\n"
     ]
    }
   ],
   "source": [
    "lang = [\"C\", \"Java\", \"JavaScript\", \"C#\", \"C++\"]\n",
    "\n",
    "i = 0\n",
    "\n",
    "while i < len(lang):\n",
    "    print(lang[i]) ; i += 1"
   ]
  },
  {
   "cell_type": "code",
   "execution_count": 84,
   "metadata": {},
   "outputs": [
    {
     "name": "stdout",
     "output_type": "stream",
     "text": [
      "C\n",
      "Java\n",
      "JavaScript\n",
      "C#\n",
      "C++\n"
     ]
    }
   ],
   "source": [
    "for i in lang:\n",
    "    print(i)"
   ]
  },
  {
   "cell_type": "code",
   "execution_count": 90,
   "metadata": {},
   "outputs": [
    {
     "name": "stdout",
     "output_type": "stream",
     "text": [
      "Local current time : Sun Jan 24 10:46:58 2021\n"
     ]
    }
   ],
   "source": [
    "import time;\n",
    "localtime = time.asctime( time.localtime(time.time()) )\n",
    "print (\"Local current time :\", localtime)"
   ]
  },
  {
   "cell_type": "code",
   "execution_count": 100,
   "metadata": {},
   "outputs": [
    {
     "name": "stdout",
     "output_type": "stream",
     "text": [
      "11\n",
      "12\n",
      "13\n",
      "14\n",
      "15\n",
      "16\n",
      "17\n",
      "18\n",
      "19\n",
      "20\n"
     ]
    }
   ],
   "source": [
    "for num in range(40):\n",
    "    if num > 10 and num <= 20:\n",
    "        if num == 15:\n",
    "            pass\n",
    "        print(num)"
   ]
  },
  {
   "cell_type": "code",
   "execution_count": 103,
   "metadata": {},
   "outputs": [
    {
     "name": "stdout",
     "output_type": "stream",
     "text": [
      "(100, 10)\n",
      "(101, 15)\n",
      "(102, 20)\n",
      "(103, 25)\n",
      "(104, 30)\n",
      "(105, 35)\n"
     ]
    }
   ],
   "source": [
    "# ZIP and Enumerate\n",
    "\n",
    "for n in enumerate(range(10, 40, 5), 100):\n",
    "    print(n)"
   ]
  },
  {
   "cell_type": "code",
   "execution_count": 141,
   "metadata": {},
   "outputs": [
    {
     "name": "stdout",
     "output_type": "stream",
     "text": [
      "101 10\n",
      "102 15\n",
      "103 20\n",
      "104 25\n",
      "105 30\n",
      "106 35\n"
     ]
    }
   ],
   "source": [
    "a = 0;\n",
    "for n in range(10, 40, 5):\n",
    "    a +=1\n",
    "    print(100 + a, n)"
   ]
  },
  {
   "cell_type": "code",
   "execution_count": 142,
   "metadata": {},
   "outputs": [],
   "source": [
    "tup1 = (33, 45, 39)\n",
    "\n",
    "mylist = [45, 23, 15]\n",
    "\n",
    "z = zip(tup1, mylist)"
   ]
  },
  {
   "cell_type": "code",
   "execution_count": 136,
   "metadata": {},
   "outputs": [],
   "source": [
    "\n",
    "for a, b in z:\n",
    "    print(a + b )"
   ]
  },
  {
   "cell_type": "code",
   "execution_count": 138,
   "metadata": {},
   "outputs": [
    {
     "name": "stdout",
     "output_type": "stream",
     "text": [
      "78\n",
      "68\n",
      "54\n"
     ]
    }
   ],
   "source": [
    "for i  in range(3):\n",
    "    print(tup1[i] + mylist[i])"
   ]
  },
  {
   "cell_type": "code",
   "execution_count": 143,
   "metadata": {},
   "outputs": [
    {
     "name": "stdout",
     "output_type": "stream",
     "text": [
      "chocolate = 3\n",
      "yoghurt = 4.56\n",
      "cereals = 56\n",
      "groudnut = 3.67\n"
     ]
    }
   ],
   "source": [
    "groceries = ['chocolate', 'yoghurt', 'cereals', 'groudnut']\n",
    "\n",
    "prices = [3, 4.56, 56, 3.67]\n",
    "\n",
    "for i in range(4):\n",
    "    print(groceries[i], \"=\", prices[i])"
   ]
  },
  {
   "cell_type": "code",
   "execution_count": 147,
   "metadata": {},
   "outputs": [
    {
     "name": "stdout",
     "output_type": "stream",
     "text": [
      "chocolate = 3\n",
      "yoghurt = 4.56\n",
      "cereals = 56\n",
      "groudnut = 3.67\n"
     ]
    }
   ],
   "source": [
    "z_shop = zip(groceries, prices)\n",
    "\n",
    "for g, p in z_shop:\n",
    "    print(g, \"=\", p)"
   ]
  },
  {
   "cell_type": "code",
   "execution_count": 152,
   "metadata": {},
   "outputs": [
    {
     "data": {
      "text/plain": [
       "[(10, 2, 5), (20, 2, 5), (30, 2, 5), (40, 2, 5), (50, 2, 5), (60, 2, 5)]"
      ]
     },
     "execution_count": 152,
     "metadata": {},
     "output_type": "execute_result"
    }
   ],
   "source": [
    "numbers = list(range(10,70, 10))\n",
    "numbers\n",
    "val = [2, 5]\n",
    "\n",
    "import itertools\n",
    "from itertools import cycle as cy\n",
    "\n",
    "zip_val = list(zip(numbers, cy([val[0]]), cy([val[1]])))\n",
    "\n",
    "zip_val"
   ]
  },
  {
   "cell_type": "code",
   "execution_count": 154,
   "metadata": {},
   "outputs": [
    {
     "data": {
      "text/plain": [
       "[20, 50, 40, 100, 60, 150, 80, 200, 100, 250, 120, 300]"
      ]
     },
     "execution_count": 154,
     "metadata": {},
     "output_type": "execute_result"
    }
   ],
   "source": [
    "calc = []\n",
    "for n, v1, v2 in zip_val:\n",
    "    calc.append(n * v1) ;  calc.append(n * v2)\n",
    "\n",
    "calc"
   ]
  },
  {
   "cell_type": "code",
   "execution_count": null,
   "metadata": {},
   "outputs": [],
   "source": [
    "numbers = list(range(0, 110, 10))\n",
    "numbers = [0, 10, 20, 30, 40, 50, 60, 70, 80, 90, 100]\n",
    "first = []\n",
    "for num in numbers:\n",
    "    s = num *2.5\n",
    "    if s % 2 == 0:\n",
    "        first.append(int(s))\n",
    "first"
   ]
  },
  {
   "cell_type": "code",
   "execution_count": 172,
   "metadata": {},
   "outputs": [
    {
     "data": {
      "text/plain": [
       "[0, 50, 100, 150, 200, 250]"
      ]
     },
     "execution_count": 172,
     "metadata": {},
     "output_type": "execute_result"
    }
   ],
   "source": [
    "first.clear()\n",
    "num = 0\n",
    "\n",
    "while num < len(numbers):\n",
    "    s = numbers[num] *2.5\n",
    "    if s % 2 == 0:\n",
    "        first.append(int(s))\n",
    "    num +=1\n",
    "    \n",
    "first\n",
    "#len(numbers)"
   ]
  },
  {
   "cell_type": "code",
   "execution_count": 175,
   "metadata": {},
   "outputs": [],
   "source": [
    "rep = [\"Joe\", \"K\", \"Mike\", \"Joi\", \"Luv\", \"Deckard\", \"Wallace\", \"Rachel\"]"
   ]
  },
  {
   "cell_type": "code",
   "execution_count": 188,
   "metadata": {},
   "outputs": [
    {
     "name": "stdout",
     "output_type": "stream",
     "text": [
      "Joe is a replicant\n",
      "Mike is NOT a replicant\n",
      "Joi is a replicant\n",
      "Luv is a replicant\n",
      "Deckard is NOT a replicant\n",
      "Wallace is NOT a replicant\n",
      "Rachel is a replicant\n"
     ]
    }
   ],
   "source": [
    "for x in rep:\n",
    "    if x == \"Joe\" or x == \"Joi\" or x == \"Luv\" or x == \"Rachel\":\n",
    "        print(x, \"is a replicant\")\n",
    "    elif x != \"K\":\n",
    "        print(x, \"is NOT a replicant\")"
   ]
  },
  {
   "cell_type": "markdown",
   "metadata": {},
   "source": [
    "# \n",
    "# DESIRED OUTPUT\n",
    "# Human\n",
    "# Question\n",
    "# Question\n",
    "# CELL WITHIN CELLS\n",
    "Question\n",
    "INTERLINKED\n",
    "Question\n",
    "CELL\n",
    "Question\n",
    "CELL WITHIN CELLS\n",
    "Question\n",
    "CELL WITHIN CELLS\n",
    "Question\n",
    "INTERLINKED\n",
    "Question\n",
    "CELL\n",
    "Question\n",
    "CELL WITHIN CELLS\n",
    "Time to Finish\n",
    "HINTS?\n",
    "1. Use a for loop with range to repeat while loop\n",
    "2. Use k += 1 with while loop and k < 8.\n",
    "3. Use if, 2 elif statements, and an else statement in your while loop.\n",
    "4. Total of 6 different print statements. 4 are inside the while loop.\n",
    "\n"
   ]
  },
  {
   "cell_type": "code",
   "execution_count": null,
   "metadata": {},
   "outputs": [],
   "source": [
    "# Add Code Here\n",
    "for r in range(2):\n",
    "    # Add Code Here\n",
    "    # Add Code Here\n",
    "        # Add Code VV\n",
    "            k % 2 == 0:\n",
    "                print(\"Question\")\n",
    "                \n",
    "        # Add Code VV\n",
    "            k > 3 and k < 7:\n",
    "                print(\"CELL\")\n",
    "                \n",
    "        # Add Code VV\n",
    "            k == 3:\n",
    "                print(\"INTERLINKED\")\n",
    "        # Add Code HERE\n",
    "            print(\"CELL WITHIN CELLS\")\n",
    "        # Add Code HERE!!!\n",
    "# Add Code Here"
   ]
  },
  {
   "cell_type": "code",
   "execution_count": null,
   "metadata": {},
   "outputs": [],
   "source": []
  },
  {
   "cell_type": "code",
   "execution_count": null,
   "metadata": {},
   "outputs": [],
   "source": []
  },
  {
   "cell_type": "code",
   "execution_count": null,
   "metadata": {},
   "outputs": [],
   "source": []
  }
 ],
 "metadata": {
  "kernelspec": {
   "display_name": "Python 3",
   "language": "python",
   "name": "python3"
  },
  "language_info": {
   "codemirror_mode": {
    "name": "ipython",
    "version": 3
   },
   "file_extension": ".py",
   "mimetype": "text/x-python",
   "name": "python",
   "nbconvert_exporter": "python",
   "pygments_lexer": "ipython3",
   "version": "3.8.5"
  }
 },
 "nbformat": 4,
 "nbformat_minor": 4
}
