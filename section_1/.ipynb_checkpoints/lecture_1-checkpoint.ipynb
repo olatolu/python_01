{
 "cells": [
  {
   "cell_type": "code",
   "execution_count": null,
   "metadata": {},
   "outputs": [],
   "source": [
    "print(\"Hello World\")"
   ]
  },
  {
   "cell_type": "code",
   "execution_count": null,
   "metadata": {},
   "outputs": [],
   "source": []
  },
  {
   "cell_type": "code",
   "execution_count": 4,
   "metadata": {
    "scrolled": true
   },
   "outputs": [
    {
     "name": "stdout",
     "output_type": "stream",
     "text": [
      "Hello World\n",
      "HOLD SHIFT + PRESS ENTER\n"
     ]
    }
   ],
   "source": [
    "print(\"HOLD SHIFT + PRESS ENTER\")"
   ]
  },
  {
   "cell_type": "code",
   "execution_count": null,
   "metadata": {},
   "outputs": [],
   "source": []
  },
  {
   "cell_type": "code",
   "execution_count": 9,
   "metadata": {
    "collapsed": true
   },
   "outputs": [
    {
     "name": "stdout",
     "output_type": "stream",
     "text": [
      "Hold control key + click cursor to the left for multiple line coding\n",
      "Hold control key + click cursor to the left for multiple line coding\n",
      "Hold control key + click cursor to the left for multiple line coding\n"
     ]
    }
   ],
   "source": [
    "print(\"Hold control key + click cursor to the left for multiple line coding\")\n",
    "print(\"Hold control key + click cursor to the left for multiple line coding\")\n",
    "print(\"Hold control key + click cursor to the left for multiple line coding\")"
   ]
  },
  {
   "cell_type": "code",
   "execution_count": null,
   "metadata": {},
   "outputs": [],
   "source": []
  },
  {
   "cell_type": "code",
   "execution_count": 9,
   "metadata": {},
   "outputs": [
    {
     "name": "stdout",
     "output_type": "stream",
     "text": [
      "Hold control key + click cursor to the left for multiple line coding\n",
      "Hold control key + click cursor to the left for multiple line coding\n",
      "Hold control key + click cursor to the left for multiple line coding\n"
     ]
    }
   ],
   "source": [
    "print(\"Hold control key + click cursor to the left for multiple line coding\")\n",
    "print(\"Hold control key + click cursor to the left for multiple line coding\")\n",
    "print(\"Hold control key + click cursor to the left for multiple line coding\")"
   ]
  },
  {
   "cell_type": "code",
   "execution_count": null,
   "metadata": {},
   "outputs": [],
   "source": []
  },
  {
   "cell_type": "code",
   "execution_count": null,
   "metadata": {},
   "outputs": [],
   "source": []
  },
  {
   "cell_type": "code",
   "execution_count": null,
   "metadata": {},
   "outputs": [],
   "source": []
  },
  {
   "cell_type": "code",
   "execution_count": null,
   "metadata": {},
   "outputs": [],
   "source": []
  }
 ],
 "metadata": {
  "kernelspec": {
   "display_name": "Python 3",
   "language": "python",
   "name": "python3"
  },
  "language_info": {
   "codemirror_mode": {
    "name": "ipython",
    "version": 3
   },
   "file_extension": ".py",
   "mimetype": "text/x-python",
   "name": "python",
   "nbconvert_exporter": "python",
   "pygments_lexer": "ipython3",
   "version": "3.8.5"
  }
 },
 "nbformat": 4,
 "nbformat_minor": 4
}
