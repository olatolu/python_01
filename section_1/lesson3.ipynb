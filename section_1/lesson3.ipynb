{
 "cells": [
  {
   "cell_type": "code",
   "execution_count": 3,
   "metadata": {},
   "outputs": [],
   "source": [
    "a = 3 ; b = 9 ; c = (\"cat\", \"dog\", \"pig\")"
   ]
  },
  {
   "cell_type": "code",
   "execution_count": 4,
   "metadata": {},
   "outputs": [
    {
     "name": "stdout",
     "output_type": "stream",
     "text": [
      "b is equal to 9\n",
      "we found cat\n"
     ]
    }
   ],
   "source": [
    "if a < 10 and b == 10:\n",
    "    print(\"This is true\")\n",
    "elif b == 9:\n",
    "    print(\"b is equal to \"+ str(b))\n",
    "    if \"cat\" in c:\n",
    "        print(\"we found {}\".format(\"cat\"))\n",
    "else:\n",
    "    print(\"we found nothing\")"
   ]
  },
  {
   "cell_type": "code",
   "execution_count": 7,
   "metadata": {},
   "outputs": [
    {
     "name": "stdout",
     "output_type": "stream",
     "text": [
      "Enter a number: 1\n",
      "You find a DOG\n",
      "olu 1\n"
     ]
    }
   ],
   "source": [
    "num = eval(input(\"Enter a number: \"))\n",
    "if num >=3 or num < 0:\n",
    "    print(\"Continue Searching\")\n",
    "else:\n",
    "    print(\"You find a {}\".format(c[num].upper()))\n",
    "    print(\"olu\", num)"
   ]
  },
  {
   "cell_type": "code",
   "execution_count": null,
   "metadata": {},
   "outputs": [],
   "source": [
    "d1 = {\"k1\": [1,2,3, (100, 300, 500)], \"k2\": [4,5,6, [\"phone\", \"computer\", \"robot\"]]}\n",
    "var = eval(input(\"Enter a number: \"))\n",
    "if var <= 3:\n",
    "    print(\"found you!\")\n",
    "    num = input(\"Enter a number: \")\n",
    "    \n",
    "    if eval(num) in d1[\"k2\"][:3]:\n",
    "        print(\"Found another one!\")\n",
    "        item = input(\"Enter an item: \")\n",
    "        if item in d1[\"k2\"][3]:\n",
    "            print(\"Got a\", item)\n",
    "        else:\n",
    "            print(\"Can't find a\", item)\n",
    "    else:\n",
    "        print(\"Can't find anything!\")\n",
    "elif var < 0:\n",
    "    print(\"can't hide!\")\n",
    "else:\n",
    "    print(\"Where are you?\")"
   ]
  },
  {
   "cell_type": "code",
   "execution_count": null,
   "metadata": {},
   "outputs": [],
   "source": []
  },
  {
   "cell_type": "code",
   "execution_count": null,
   "metadata": {},
   "outputs": [],
   "source": []
  },
  {
   "cell_type": "code",
   "execution_count": null,
   "metadata": {},
   "outputs": [],
   "source": []
  },
  {
   "cell_type": "code",
   "execution_count": null,
   "metadata": {},
   "outputs": [],
   "source": []
  },
  {
   "cell_type": "code",
   "execution_count": null,
   "metadata": {},
   "outputs": [],
   "source": []
  },
  {
   "cell_type": "code",
   "execution_count": null,
   "metadata": {},
   "outputs": [],
   "source": []
  },
  {
   "cell_type": "code",
   "execution_count": null,
   "metadata": {},
   "outputs": [],
   "source": []
  },
  {
   "cell_type": "code",
   "execution_count": null,
   "metadata": {},
   "outputs": [],
   "source": []
  },
  {
   "cell_type": "code",
   "execution_count": null,
   "metadata": {},
   "outputs": [],
   "source": []
  }
 ],
 "metadata": {
  "kernelspec": {
   "display_name": "Python 3",
   "language": "python",
   "name": "python3"
  },
  "language_info": {
   "codemirror_mode": {
    "name": "ipython",
    "version": 3
   },
   "file_extension": ".py",
   "mimetype": "text/x-python",
   "name": "python",
   "nbconvert_exporter": "python",
   "pygments_lexer": "ipython3",
   "version": "3.8.5"
  }
 },
 "nbformat": 4,
 "nbformat_minor": 4
}
